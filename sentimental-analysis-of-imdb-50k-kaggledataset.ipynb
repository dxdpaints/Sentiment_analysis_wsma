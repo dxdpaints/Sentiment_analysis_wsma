{
 "cells": [
  {
   "cell_type": "code",
   "execution_count": 1,
   "id": "63ad7de6",
   "metadata": {
    "execution": {
     "iopub.execute_input": "2024-04-07T22:07:45.624086Z",
     "iopub.status.busy": "2024-04-07T22:07:45.623144Z",
     "iopub.status.idle": "2024-04-07T22:07:46.461079Z",
     "shell.execute_reply": "2024-04-07T22:07:46.460093Z"
    },
    "papermill": {
     "duration": 0.856888,
     "end_time": "2024-04-07T22:07:46.463443",
     "exception": false,
     "start_time": "2024-04-07T22:07:45.606555",
     "status": "completed"
    },
    "tags": []
   },
   "outputs": [],
   "source": [
    "import numpy as np\n",
    "import pandas as pd\n"
   ]
  },
  {
   "cell_type": "code",
   "execution_count": 2,
   "id": "73429b45",
   "metadata": {
    "execution": {
     "iopub.execute_input": "2024-04-07T22:07:46.493575Z",
     "iopub.status.busy": "2024-04-07T22:07:46.492296Z",
     "iopub.status.idle": "2024-04-07T22:07:48.031142Z",
     "shell.execute_reply": "2024-04-07T22:07:48.030248Z"
    },
    "papermill": {
     "duration": 1.55627,
     "end_time": "2024-04-07T22:07:48.033963",
     "exception": false,
     "start_time": "2024-04-07T22:07:46.477693",
     "status": "completed"
    },
    "tags": []
   },
   "outputs": [],
   "source": [
    "tdf = pd.read_csv(\"/kaggle/input/imdb-dataset-of-50k-movie-reviews/IMDB Dataset.csv\")\n",
    "df= tdf.iloc[:10000,:]"
   ]
  },
  {
   "cell_type": "code",
   "execution_count": 3,
   "id": "20fc6d12",
   "metadata": {
    "execution": {
     "iopub.execute_input": "2024-04-07T22:07:48.064935Z",
     "iopub.status.busy": "2024-04-07T22:07:48.063904Z",
     "iopub.status.idle": "2024-04-07T22:07:48.078904Z",
     "shell.execute_reply": "2024-04-07T22:07:48.077874Z"
    },
    "papermill": {
     "duration": 0.032775,
     "end_time": "2024-04-07T22:07:48.081097",
     "exception": false,
     "start_time": "2024-04-07T22:07:48.048322",
     "status": "completed"
    },
    "tags": []
   },
   "outputs": [
    {
     "data": {
      "text/html": [
       "<div>\n",
       "<style scoped>\n",
       "    .dataframe tbody tr th:only-of-type {\n",
       "        vertical-align: middle;\n",
       "    }\n",
       "\n",
       "    .dataframe tbody tr th {\n",
       "        vertical-align: top;\n",
       "    }\n",
       "\n",
       "    .dataframe thead th {\n",
       "        text-align: right;\n",
       "    }\n",
       "</style>\n",
       "<table border=\"1\" class=\"dataframe\">\n",
       "  <thead>\n",
       "    <tr style=\"text-align: right;\">\n",
       "      <th></th>\n",
       "      <th>review</th>\n",
       "      <th>sentiment</th>\n",
       "    </tr>\n",
       "  </thead>\n",
       "  <tbody>\n",
       "    <tr>\n",
       "      <th>0</th>\n",
       "      <td>One of the other reviewers has mentioned that ...</td>\n",
       "      <td>positive</td>\n",
       "    </tr>\n",
       "    <tr>\n",
       "      <th>1</th>\n",
       "      <td>A wonderful little production. &lt;br /&gt;&lt;br /&gt;The...</td>\n",
       "      <td>positive</td>\n",
       "    </tr>\n",
       "    <tr>\n",
       "      <th>2</th>\n",
       "      <td>I thought this was a wonderful way to spend ti...</td>\n",
       "      <td>positive</td>\n",
       "    </tr>\n",
       "    <tr>\n",
       "      <th>3</th>\n",
       "      <td>Basically there's a family where a little boy ...</td>\n",
       "      <td>negative</td>\n",
       "    </tr>\n",
       "    <tr>\n",
       "      <th>4</th>\n",
       "      <td>Petter Mattei's \"Love in the Time of Money\" is...</td>\n",
       "      <td>positive</td>\n",
       "    </tr>\n",
       "  </tbody>\n",
       "</table>\n",
       "</div>"
      ],
      "text/plain": [
       "                                              review sentiment\n",
       "0  One of the other reviewers has mentioned that ...  positive\n",
       "1  A wonderful little production. <br /><br />The...  positive\n",
       "2  I thought this was a wonderful way to spend ti...  positive\n",
       "3  Basically there's a family where a little boy ...  negative\n",
       "4  Petter Mattei's \"Love in the Time of Money\" is...  positive"
      ]
     },
     "execution_count": 3,
     "metadata": {},
     "output_type": "execute_result"
    }
   ],
   "source": [
    "df.head()"
   ]
  },
  {
   "cell_type": "code",
   "execution_count": 4,
   "id": "f5879781",
   "metadata": {
    "execution": {
     "iopub.execute_input": "2024-04-07T22:07:48.113198Z",
     "iopub.status.busy": "2024-04-07T22:07:48.112238Z",
     "iopub.status.idle": "2024-04-07T22:07:48.120299Z",
     "shell.execute_reply": "2024-04-07T22:07:48.119249Z"
    },
    "papermill": {
     "duration": 0.027444,
     "end_time": "2024-04-07T22:07:48.122733",
     "exception": false,
     "start_time": "2024-04-07T22:07:48.095289",
     "status": "completed"
    },
    "tags": []
   },
   "outputs": [
    {
     "data": {
      "text/plain": [
       "'A wonderful little production. <br /><br />The filming technique is very unassuming- very old-time-BBC fashion and gives a comforting, and sometimes discomforting, sense of realism to the entire piece. <br /><br />The actors are extremely well chosen- Michael Sheen not only \"has got all the polari\" but he has all the voices down pat too! You can truly see the seamless editing guided by the references to Williams\\' diary entries, not only is it well worth the watching but it is a terrificly written and performed piece. A masterful production about one of the great master\\'s of comedy and his life. <br /><br />The realism really comes home with the little things: the fantasy of the guard which, rather than use the traditional \\'dream\\' techniques remains solid then disappears. It plays on our knowledge and our senses, particularly with the scenes concerning Orton and Halliwell and the sets (particularly of their flat with Halliwell\\'s murals decorating every surface) are terribly well done.'"
      ]
     },
     "execution_count": 4,
     "metadata": {},
     "output_type": "execute_result"
    }
   ],
   "source": [
    "df['review'][1]"
   ]
  },
  {
   "cell_type": "code",
   "execution_count": 5,
   "id": "31d56327",
   "metadata": {
    "execution": {
     "iopub.execute_input": "2024-04-07T22:07:48.155352Z",
     "iopub.status.busy": "2024-04-07T22:07:48.154972Z",
     "iopub.status.idle": "2024-04-07T22:07:48.168591Z",
     "shell.execute_reply": "2024-04-07T22:07:48.167784Z"
    },
    "papermill": {
     "duration": 0.031994,
     "end_time": "2024-04-07T22:07:48.170557",
     "exception": false,
     "start_time": "2024-04-07T22:07:48.138563",
     "status": "completed"
    },
    "tags": []
   },
   "outputs": [
    {
     "data": {
      "text/plain": [
       "sentiment\n",
       "positive    5028\n",
       "negative    4972\n",
       "Name: count, dtype: int64"
      ]
     },
     "execution_count": 5,
     "metadata": {},
     "output_type": "execute_result"
    }
   ],
   "source": [
    "df['sentiment'].value_counts()"
   ]
  },
  {
   "cell_type": "code",
   "execution_count": 6,
   "id": "519e2256",
   "metadata": {
    "execution": {
     "iopub.execute_input": "2024-04-07T22:07:48.202054Z",
     "iopub.status.busy": "2024-04-07T22:07:48.201377Z",
     "iopub.status.idle": "2024-04-07T22:07:48.214239Z",
     "shell.execute_reply": "2024-04-07T22:07:48.213406Z"
    },
    "papermill": {
     "duration": 0.031688,
     "end_time": "2024-04-07T22:07:48.217143",
     "exception": false,
     "start_time": "2024-04-07T22:07:48.185455",
     "status": "completed"
    },
    "tags": []
   },
   "outputs": [
    {
     "data": {
      "text/plain": [
       "review       0\n",
       "sentiment    0\n",
       "dtype: int64"
      ]
     },
     "execution_count": 6,
     "metadata": {},
     "output_type": "execute_result"
    }
   ],
   "source": [
    "df.isnull().sum()"
   ]
  },
  {
   "cell_type": "code",
   "execution_count": 7,
   "id": "6594bba3",
   "metadata": {
    "execution": {
     "iopub.execute_input": "2024-04-07T22:07:48.248394Z",
     "iopub.status.busy": "2024-04-07T22:07:48.248000Z",
     "iopub.status.idle": "2024-04-07T22:07:48.295512Z",
     "shell.execute_reply": "2024-04-07T22:07:48.294356Z"
    },
    "papermill": {
     "duration": 0.065605,
     "end_time": "2024-04-07T22:07:48.297733",
     "exception": false,
     "start_time": "2024-04-07T22:07:48.232128",
     "status": "completed"
    },
    "tags": []
   },
   "outputs": [
    {
     "data": {
      "text/plain": [
       "17"
      ]
     },
     "execution_count": 7,
     "metadata": {},
     "output_type": "execute_result"
    }
   ],
   "source": [
    "df.duplicated().sum()"
   ]
  },
  {
   "cell_type": "code",
   "execution_count": 8,
   "id": "ebd65c2a",
   "metadata": {
    "execution": {
     "iopub.execute_input": "2024-04-07T22:07:48.329533Z",
     "iopub.status.busy": "2024-04-07T22:07:48.329133Z",
     "iopub.status.idle": "2024-04-07T22:07:48.379555Z",
     "shell.execute_reply": "2024-04-07T22:07:48.378462Z"
    },
    "papermill": {
     "duration": 0.069139,
     "end_time": "2024-04-07T22:07:48.382036",
     "exception": false,
     "start_time": "2024-04-07T22:07:48.312897",
     "status": "completed"
    },
    "tags": []
   },
   "outputs": [
    {
     "name": "stderr",
     "output_type": "stream",
     "text": [
      "/tmp/ipykernel_18/3424306917.py:1: SettingWithCopyWarning: \n",
      "A value is trying to be set on a copy of a slice from a DataFrame\n",
      "\n",
      "See the caveats in the documentation: https://pandas.pydata.org/pandas-docs/stable/user_guide/indexing.html#returning-a-view-versus-a-copy\n",
      "  df.drop_duplicates(inplace = True)\n"
     ]
    }
   ],
   "source": [
    "df.drop_duplicates(inplace = True)"
   ]
  },
  {
   "cell_type": "code",
   "execution_count": 9,
   "id": "1d9c14f5",
   "metadata": {
    "execution": {
     "iopub.execute_input": "2024-04-07T22:07:48.414273Z",
     "iopub.status.busy": "2024-04-07T22:07:48.413557Z",
     "iopub.status.idle": "2024-04-07T22:07:48.455060Z",
     "shell.execute_reply": "2024-04-07T22:07:48.454053Z"
    },
    "papermill": {
     "duration": 0.06062,
     "end_time": "2024-04-07T22:07:48.457757",
     "exception": false,
     "start_time": "2024-04-07T22:07:48.397137",
     "status": "completed"
    },
    "tags": []
   },
   "outputs": [
    {
     "data": {
      "text/plain": [
       "0"
      ]
     },
     "execution_count": 9,
     "metadata": {},
     "output_type": "execute_result"
    }
   ],
   "source": [
    "df.duplicated().sum()"
   ]
  },
  {
   "cell_type": "markdown",
   "id": "6fb8a2ee",
   "metadata": {
    "papermill": {
     "duration": 0.014819,
     "end_time": "2024-04-07T22:07:48.487901",
     "exception": false,
     "start_time": "2024-04-07T22:07:48.473082",
     "status": "completed"
    },
    "tags": []
   },
   "source": [
    "# Removing HTML tags using regular expresions"
   ]
  },
  {
   "cell_type": "code",
   "execution_count": 10,
   "id": "9f44307d",
   "metadata": {
    "execution": {
     "iopub.execute_input": "2024-04-07T22:07:48.519510Z",
     "iopub.status.busy": "2024-04-07T22:07:48.519111Z",
     "iopub.status.idle": "2024-04-07T22:07:48.524758Z",
     "shell.execute_reply": "2024-04-07T22:07:48.523660Z"
    },
    "papermill": {
     "duration": 0.024225,
     "end_time": "2024-04-07T22:07:48.526988",
     "exception": false,
     "start_time": "2024-04-07T22:07:48.502763",
     "status": "completed"
    },
    "tags": []
   },
   "outputs": [],
   "source": [
    "import re \n",
    "def remove_tags(raw_text):\n",
    "    cleaned_text = re.sub(re.compile('<.*?>'),\"\",raw_text)\n",
    "    return cleaned_text"
   ]
  },
  {
   "cell_type": "code",
   "execution_count": 11,
   "id": "41df7d29",
   "metadata": {
    "execution": {
     "iopub.execute_input": "2024-04-07T22:07:48.559048Z",
     "iopub.status.busy": "2024-04-07T22:07:48.558468Z",
     "iopub.status.idle": "2024-04-07T22:07:48.631914Z",
     "shell.execute_reply": "2024-04-07T22:07:48.630872Z"
    },
    "papermill": {
     "duration": 0.091917,
     "end_time": "2024-04-07T22:07:48.634115",
     "exception": false,
     "start_time": "2024-04-07T22:07:48.542198",
     "status": "completed"
    },
    "tags": []
   },
   "outputs": [
    {
     "name": "stderr",
     "output_type": "stream",
     "text": [
      "/tmp/ipykernel_18/413736377.py:1: SettingWithCopyWarning: \n",
      "A value is trying to be set on a copy of a slice from a DataFrame.\n",
      "Try using .loc[row_indexer,col_indexer] = value instead\n",
      "\n",
      "See the caveats in the documentation: https://pandas.pydata.org/pandas-docs/stable/user_guide/indexing.html#returning-a-view-versus-a-copy\n",
      "  df['review'] = df['review'].apply(remove_tags)\n"
     ]
    },
    {
     "data": {
      "text/plain": [
       "'A wonderful little production. The filming technique is very unassuming- very old-time-BBC fashion and gives a comforting, and sometimes discomforting, sense of realism to the entire piece. The actors are extremely well chosen- Michael Sheen not only \"has got all the polari\" but he has all the voices down pat too! You can truly see the seamless editing guided by the references to Williams\\' diary entries, not only is it well worth the watching but it is a terrificly written and performed piece. A masterful production about one of the great master\\'s of comedy and his life. The realism really comes home with the little things: the fantasy of the guard which, rather than use the traditional \\'dream\\' techniques remains solid then disappears. It plays on our knowledge and our senses, particularly with the scenes concerning Orton and Halliwell and the sets (particularly of their flat with Halliwell\\'s murals decorating every surface) are terribly well done.'"
      ]
     },
     "execution_count": 11,
     "metadata": {},
     "output_type": "execute_result"
    }
   ],
   "source": [
    "df['review'] = df['review'].apply(remove_tags)\n",
    "df['review'][1]"
   ]
  },
  {
   "cell_type": "markdown",
   "id": "f224c84d",
   "metadata": {
    "papermill": {
     "duration": 0.015263,
     "end_time": "2024-04-07T22:07:48.664768",
     "exception": false,
     "start_time": "2024-04-07T22:07:48.649505",
     "status": "completed"
    },
    "tags": []
   },
   "source": [
    "# converting into lower case"
   ]
  },
  {
   "cell_type": "code",
   "execution_count": 12,
   "id": "9cc28bef",
   "metadata": {
    "execution": {
     "iopub.execute_input": "2024-04-07T22:07:48.697622Z",
     "iopub.status.busy": "2024-04-07T22:07:48.696955Z",
     "iopub.status.idle": "2024-04-07T22:07:48.750210Z",
     "shell.execute_reply": "2024-04-07T22:07:48.749053Z"
    },
    "papermill": {
     "duration": 0.073438,
     "end_time": "2024-04-07T22:07:48.753710",
     "exception": false,
     "start_time": "2024-04-07T22:07:48.680272",
     "status": "completed"
    },
    "tags": []
   },
   "outputs": [
    {
     "name": "stderr",
     "output_type": "stream",
     "text": [
      "/tmp/ipykernel_18/2521804453.py:1: SettingWithCopyWarning: \n",
      "A value is trying to be set on a copy of a slice from a DataFrame.\n",
      "Try using .loc[row_indexer,col_indexer] = value instead\n",
      "\n",
      "See the caveats in the documentation: https://pandas.pydata.org/pandas-docs/stable/user_guide/indexing.html#returning-a-view-versus-a-copy\n",
      "  df['review'] = df['review'].apply(lambda x:x.lower())\n"
     ]
    },
    {
     "data": {
      "text/plain": [
       "'a wonderful little production. the filming technique is very unassuming- very old-time-bbc fashion and gives a comforting, and sometimes discomforting, sense of realism to the entire piece. the actors are extremely well chosen- michael sheen not only \"has got all the polari\" but he has all the voices down pat too! you can truly see the seamless editing guided by the references to williams\\' diary entries, not only is it well worth the watching but it is a terrificly written and performed piece. a masterful production about one of the great master\\'s of comedy and his life. the realism really comes home with the little things: the fantasy of the guard which, rather than use the traditional \\'dream\\' techniques remains solid then disappears. it plays on our knowledge and our senses, particularly with the scenes concerning orton and halliwell and the sets (particularly of their flat with halliwell\\'s murals decorating every surface) are terribly well done.'"
      ]
     },
     "execution_count": 12,
     "metadata": {},
     "output_type": "execute_result"
    }
   ],
   "source": [
    "df['review'] = df['review'].apply(lambda x:x.lower())\n",
    "df['review'][1]"
   ]
  },
  {
   "cell_type": "markdown",
   "id": "ca5b7f2e",
   "metadata": {
    "papermill": {
     "duration": 0.016162,
     "end_time": "2024-04-07T22:07:48.786266",
     "exception": false,
     "start_time": "2024-04-07T22:07:48.770104",
     "status": "completed"
    },
    "tags": []
   },
   "source": [
    "# Remove Punctuation"
   ]
  },
  {
   "cell_type": "code",
   "execution_count": 13,
   "id": "e2f02497",
   "metadata": {
    "execution": {
     "iopub.execute_input": "2024-04-07T22:07:48.820541Z",
     "iopub.status.busy": "2024-04-07T22:07:48.820093Z",
     "iopub.status.idle": "2024-04-07T22:07:48.824888Z",
     "shell.execute_reply": "2024-04-07T22:07:48.823891Z"
    },
    "papermill": {
     "duration": 0.025023,
     "end_time": "2024-04-07T22:07:48.827099",
     "exception": false,
     "start_time": "2024-04-07T22:07:48.802076",
     "status": "completed"
    },
    "tags": []
   },
   "outputs": [],
   "source": [
    "import string\n",
    "exclude = string.punctuation"
   ]
  },
  {
   "cell_type": "code",
   "execution_count": 14,
   "id": "29d87cdb",
   "metadata": {
    "execution": {
     "iopub.execute_input": "2024-04-07T22:07:48.860103Z",
     "iopub.status.busy": "2024-04-07T22:07:48.859726Z",
     "iopub.status.idle": "2024-04-07T22:07:48.865048Z",
     "shell.execute_reply": "2024-04-07T22:07:48.863966Z"
    },
    "papermill": {
     "duration": 0.024363,
     "end_time": "2024-04-07T22:07:48.867236",
     "exception": false,
     "start_time": "2024-04-07T22:07:48.842873",
     "status": "completed"
    },
    "tags": []
   },
   "outputs": [],
   "source": [
    "def remove_punctuation(text):\n",
    "    for c in exclude:\n",
    "        text = text.replace(c,'')\n",
    "    return text"
   ]
  },
  {
   "cell_type": "code",
   "execution_count": 15,
   "id": "c539360a",
   "metadata": {
    "execution": {
     "iopub.execute_input": "2024-04-07T22:07:48.901010Z",
     "iopub.status.busy": "2024-04-07T22:07:48.900629Z",
     "iopub.status.idle": "2024-04-07T22:07:49.181230Z",
     "shell.execute_reply": "2024-04-07T22:07:49.179901Z"
    },
    "papermill": {
     "duration": 0.300738,
     "end_time": "2024-04-07T22:07:49.184055",
     "exception": false,
     "start_time": "2024-04-07T22:07:48.883317",
     "status": "completed"
    },
    "tags": []
   },
   "outputs": [
    {
     "name": "stderr",
     "output_type": "stream",
     "text": [
      "/tmp/ipykernel_18/1250468065.py:1: SettingWithCopyWarning: \n",
      "A value is trying to be set on a copy of a slice from a DataFrame.\n",
      "Try using .loc[row_indexer,col_indexer] = value instead\n",
      "\n",
      "See the caveats in the documentation: https://pandas.pydata.org/pandas-docs/stable/user_guide/indexing.html#returning-a-view-versus-a-copy\n",
      "  df['review'] = df['review'].apply(remove_punctuation)\n"
     ]
    },
    {
     "data": {
      "text/plain": [
       "'a wonderful little production the filming technique is very unassuming very oldtimebbc fashion and gives a comforting and sometimes discomforting sense of realism to the entire piece the actors are extremely well chosen michael sheen not only has got all the polari but he has all the voices down pat too you can truly see the seamless editing guided by the references to williams diary entries not only is it well worth the watching but it is a terrificly written and performed piece a masterful production about one of the great masters of comedy and his life the realism really comes home with the little things the fantasy of the guard which rather than use the traditional dream techniques remains solid then disappears it plays on our knowledge and our senses particularly with the scenes concerning orton and halliwell and the sets particularly of their flat with halliwells murals decorating every surface are terribly well done'"
      ]
     },
     "execution_count": 15,
     "metadata": {},
     "output_type": "execute_result"
    }
   ],
   "source": [
    "df['review'] = df['review'].apply(remove_punctuation)\n",
    "df['review'][1]"
   ]
  },
  {
   "cell_type": "markdown",
   "id": "11c7af6b",
   "metadata": {
    "papermill": {
     "duration": 0.015776,
     "end_time": "2024-04-07T22:07:49.215794",
     "exception": false,
     "start_time": "2024-04-07T22:07:49.200018",
     "status": "completed"
    },
    "tags": []
   },
   "source": [
    "# Removing Stopwords\n"
   ]
  },
  {
   "cell_type": "code",
   "execution_count": 16,
   "id": "9fe7af2f",
   "metadata": {
    "execution": {
     "iopub.execute_input": "2024-04-07T22:07:49.250766Z",
     "iopub.status.busy": "2024-04-07T22:07:49.250403Z",
     "iopub.status.idle": "2024-04-07T22:07:55.995469Z",
     "shell.execute_reply": "2024-04-07T22:07:55.994316Z"
    },
    "papermill": {
     "duration": 6.76501,
     "end_time": "2024-04-07T22:07:55.997984",
     "exception": false,
     "start_time": "2024-04-07T22:07:49.232974",
     "status": "completed"
    },
    "tags": []
   },
   "outputs": [
    {
     "name": "stderr",
     "output_type": "stream",
     "text": [
      "/tmp/ipykernel_18/3434098104.py:4: SettingWithCopyWarning: \n",
      "A value is trying to be set on a copy of a slice from a DataFrame.\n",
      "Try using .loc[row_indexer,col_indexer] = value instead\n",
      "\n",
      "See the caveats in the documentation: https://pandas.pydata.org/pandas-docs/stable/user_guide/indexing.html#returning-a-view-versus-a-copy\n",
      "  df['review'] = df['review'].apply(lambda x: [item for item in x.split() if item not in sw_list]).apply(lambda x:\" \".join(x))\n"
     ]
    }
   ],
   "source": [
    "from nltk.corpus import stopwords\n",
    "\n",
    "sw_list = stopwords.words('english')\n",
    "df['review'] = df['review'].apply(lambda x: [item for item in x.split() if item not in sw_list]).apply(lambda x:\" \".join(x))"
   ]
  },
  {
   "cell_type": "markdown",
   "id": "42a8fb55",
   "metadata": {
    "papermill": {
     "duration": 0.015899,
     "end_time": "2024-04-07T22:07:56.030666",
     "exception": false,
     "start_time": "2024-04-07T22:07:56.014767",
     "status": "completed"
    },
    "tags": []
   },
   "source": [
    "# training the model "
   ]
  },
  {
   "cell_type": "code",
   "execution_count": 17,
   "id": "ecf5f466",
   "metadata": {
    "execution": {
     "iopub.execute_input": "2024-04-07T22:07:56.064583Z",
     "iopub.status.busy": "2024-04-07T22:07:56.064050Z",
     "iopub.status.idle": "2024-04-07T22:07:56.077126Z",
     "shell.execute_reply": "2024-04-07T22:07:56.076391Z"
    },
    "papermill": {
     "duration": 0.032419,
     "end_time": "2024-04-07T22:07:56.079148",
     "exception": false,
     "start_time": "2024-04-07T22:07:56.046729",
     "status": "completed"
    },
    "tags": []
   },
   "outputs": [
    {
     "data": {
      "text/html": [
       "<div>\n",
       "<style scoped>\n",
       "    .dataframe tbody tr th:only-of-type {\n",
       "        vertical-align: middle;\n",
       "    }\n",
       "\n",
       "    .dataframe tbody tr th {\n",
       "        vertical-align: top;\n",
       "    }\n",
       "\n",
       "    .dataframe thead th {\n",
       "        text-align: right;\n",
       "    }\n",
       "</style>\n",
       "<table border=\"1\" class=\"dataframe\">\n",
       "  <thead>\n",
       "    <tr style=\"text-align: right;\">\n",
       "      <th></th>\n",
       "      <th>review</th>\n",
       "      <th>sentiment</th>\n",
       "    </tr>\n",
       "  </thead>\n",
       "  <tbody>\n",
       "    <tr>\n",
       "      <th>0</th>\n",
       "      <td>one reviewers mentioned watching 1 oz episode ...</td>\n",
       "      <td>positive</td>\n",
       "    </tr>\n",
       "    <tr>\n",
       "      <th>1</th>\n",
       "      <td>wonderful little production filming technique ...</td>\n",
       "      <td>positive</td>\n",
       "    </tr>\n",
       "    <tr>\n",
       "      <th>2</th>\n",
       "      <td>thought wonderful way spend time hot summer we...</td>\n",
       "      <td>positive</td>\n",
       "    </tr>\n",
       "    <tr>\n",
       "      <th>3</th>\n",
       "      <td>basically theres family little boy jake thinks...</td>\n",
       "      <td>negative</td>\n",
       "    </tr>\n",
       "    <tr>\n",
       "      <th>4</th>\n",
       "      <td>petter matteis love time money visually stunni...</td>\n",
       "      <td>positive</td>\n",
       "    </tr>\n",
       "    <tr>\n",
       "      <th>...</th>\n",
       "      <td>...</td>\n",
       "      <td>...</td>\n",
       "    </tr>\n",
       "    <tr>\n",
       "      <th>9995</th>\n",
       "      <td>fun entertaining movie wwii german spy julie a...</td>\n",
       "      <td>positive</td>\n",
       "    </tr>\n",
       "    <tr>\n",
       "      <th>9996</th>\n",
       "      <td>give break anyone say good hockey movie know m...</td>\n",
       "      <td>negative</td>\n",
       "    </tr>\n",
       "    <tr>\n",
       "      <th>9997</th>\n",
       "      <td>movie bad movie watching endless series bad ho...</td>\n",
       "      <td>negative</td>\n",
       "    </tr>\n",
       "    <tr>\n",
       "      <th>9998</th>\n",
       "      <td>movie probably made entertain middle school ea...</td>\n",
       "      <td>negative</td>\n",
       "    </tr>\n",
       "    <tr>\n",
       "      <th>9999</th>\n",
       "      <td>smashing film filmmaking shows intense strange...</td>\n",
       "      <td>positive</td>\n",
       "    </tr>\n",
       "  </tbody>\n",
       "</table>\n",
       "<p>9983 rows × 2 columns</p>\n",
       "</div>"
      ],
      "text/plain": [
       "                                                 review sentiment\n",
       "0     one reviewers mentioned watching 1 oz episode ...  positive\n",
       "1     wonderful little production filming technique ...  positive\n",
       "2     thought wonderful way spend time hot summer we...  positive\n",
       "3     basically theres family little boy jake thinks...  negative\n",
       "4     petter matteis love time money visually stunni...  positive\n",
       "...                                                 ...       ...\n",
       "9995  fun entertaining movie wwii german spy julie a...  positive\n",
       "9996  give break anyone say good hockey movie know m...  negative\n",
       "9997  movie bad movie watching endless series bad ho...  negative\n",
       "9998  movie probably made entertain middle school ea...  negative\n",
       "9999  smashing film filmmaking shows intense strange...  positive\n",
       "\n",
       "[9983 rows x 2 columns]"
      ]
     },
     "execution_count": 17,
     "metadata": {},
     "output_type": "execute_result"
    }
   ],
   "source": [
    "df"
   ]
  },
  {
   "cell_type": "code",
   "execution_count": 18,
   "id": "2bd5d984",
   "metadata": {
    "execution": {
     "iopub.execute_input": "2024-04-07T22:07:56.167014Z",
     "iopub.status.busy": "2024-04-07T22:07:56.166341Z",
     "iopub.status.idle": "2024-04-07T22:07:56.171581Z",
     "shell.execute_reply": "2024-04-07T22:07:56.170750Z"
    },
    "papermill": {
     "duration": 0.025445,
     "end_time": "2024-04-07T22:07:56.174142",
     "exception": false,
     "start_time": "2024-04-07T22:07:56.148697",
     "status": "completed"
    },
    "tags": []
   },
   "outputs": [],
   "source": [
    "X = df.iloc[:,0:1]\n",
    "\n",
    "y = df['sentiment']"
   ]
  },
  {
   "cell_type": "code",
   "execution_count": 19,
   "id": "b7540ff7",
   "metadata": {
    "execution": {
     "iopub.execute_input": "2024-04-07T22:07:56.208425Z",
     "iopub.status.busy": "2024-04-07T22:07:56.208058Z",
     "iopub.status.idle": "2024-04-07T22:07:56.218364Z",
     "shell.execute_reply": "2024-04-07T22:07:56.217405Z"
    },
    "papermill": {
     "duration": 0.030435,
     "end_time": "2024-04-07T22:07:56.220780",
     "exception": false,
     "start_time": "2024-04-07T22:07:56.190345",
     "status": "completed"
    },
    "tags": []
   },
   "outputs": [
    {
     "data": {
      "text/html": [
       "<div>\n",
       "<style scoped>\n",
       "    .dataframe tbody tr th:only-of-type {\n",
       "        vertical-align: middle;\n",
       "    }\n",
       "\n",
       "    .dataframe tbody tr th {\n",
       "        vertical-align: top;\n",
       "    }\n",
       "\n",
       "    .dataframe thead th {\n",
       "        text-align: right;\n",
       "    }\n",
       "</style>\n",
       "<table border=\"1\" class=\"dataframe\">\n",
       "  <thead>\n",
       "    <tr style=\"text-align: right;\">\n",
       "      <th></th>\n",
       "      <th>review</th>\n",
       "    </tr>\n",
       "  </thead>\n",
       "  <tbody>\n",
       "    <tr>\n",
       "      <th>0</th>\n",
       "      <td>one reviewers mentioned watching 1 oz episode ...</td>\n",
       "    </tr>\n",
       "    <tr>\n",
       "      <th>1</th>\n",
       "      <td>wonderful little production filming technique ...</td>\n",
       "    </tr>\n",
       "    <tr>\n",
       "      <th>2</th>\n",
       "      <td>thought wonderful way spend time hot summer we...</td>\n",
       "    </tr>\n",
       "    <tr>\n",
       "      <th>3</th>\n",
       "      <td>basically theres family little boy jake thinks...</td>\n",
       "    </tr>\n",
       "    <tr>\n",
       "      <th>4</th>\n",
       "      <td>petter matteis love time money visually stunni...</td>\n",
       "    </tr>\n",
       "    <tr>\n",
       "      <th>...</th>\n",
       "      <td>...</td>\n",
       "    </tr>\n",
       "    <tr>\n",
       "      <th>9995</th>\n",
       "      <td>fun entertaining movie wwii german spy julie a...</td>\n",
       "    </tr>\n",
       "    <tr>\n",
       "      <th>9996</th>\n",
       "      <td>give break anyone say good hockey movie know m...</td>\n",
       "    </tr>\n",
       "    <tr>\n",
       "      <th>9997</th>\n",
       "      <td>movie bad movie watching endless series bad ho...</td>\n",
       "    </tr>\n",
       "    <tr>\n",
       "      <th>9998</th>\n",
       "      <td>movie probably made entertain middle school ea...</td>\n",
       "    </tr>\n",
       "    <tr>\n",
       "      <th>9999</th>\n",
       "      <td>smashing film filmmaking shows intense strange...</td>\n",
       "    </tr>\n",
       "  </tbody>\n",
       "</table>\n",
       "<p>9983 rows × 1 columns</p>\n",
       "</div>"
      ],
      "text/plain": [
       "                                                 review\n",
       "0     one reviewers mentioned watching 1 oz episode ...\n",
       "1     wonderful little production filming technique ...\n",
       "2     thought wonderful way spend time hot summer we...\n",
       "3     basically theres family little boy jake thinks...\n",
       "4     petter matteis love time money visually stunni...\n",
       "...                                                 ...\n",
       "9995  fun entertaining movie wwii german spy julie a...\n",
       "9996  give break anyone say good hockey movie know m...\n",
       "9997  movie bad movie watching endless series bad ho...\n",
       "9998  movie probably made entertain middle school ea...\n",
       "9999  smashing film filmmaking shows intense strange...\n",
       "\n",
       "[9983 rows x 1 columns]"
      ]
     },
     "execution_count": 19,
     "metadata": {},
     "output_type": "execute_result"
    }
   ],
   "source": [
    "X"
   ]
  },
  {
   "cell_type": "markdown",
   "id": "907669c7",
   "metadata": {
    "papermill": {
     "duration": 0.017572,
     "end_time": "2024-04-07T22:07:56.255271",
     "exception": false,
     "start_time": "2024-04-07T22:07:56.237699",
     "status": "completed"
    },
    "tags": []
   },
   "source": [
    "# Label encodeing of y"
   ]
  },
  {
   "cell_type": "code",
   "execution_count": 20,
   "id": "0cd15887",
   "metadata": {
    "execution": {
     "iopub.execute_input": "2024-04-07T22:07:56.290403Z",
     "iopub.status.busy": "2024-04-07T22:07:56.290008Z",
     "iopub.status.idle": "2024-04-07T22:07:56.298060Z",
     "shell.execute_reply": "2024-04-07T22:07:56.296813Z"
    },
    "papermill": {
     "duration": 0.028291,
     "end_time": "2024-04-07T22:07:56.300296",
     "exception": false,
     "start_time": "2024-04-07T22:07:56.272005",
     "status": "completed"
    },
    "tags": []
   },
   "outputs": [],
   "source": [
    "from sklearn.preprocessing import LabelEncoder\n",
    "encoder = LabelEncoder()\n",
    "y = encoder.fit_transform(y)"
   ]
  },
  {
   "cell_type": "code",
   "execution_count": 21,
   "id": "e0a4b7f0",
   "metadata": {
    "execution": {
     "iopub.execute_input": "2024-04-07T22:07:56.335689Z",
     "iopub.status.busy": "2024-04-07T22:07:56.335291Z",
     "iopub.status.idle": "2024-04-07T22:07:56.341495Z",
     "shell.execute_reply": "2024-04-07T22:07:56.340546Z"
    },
    "papermill": {
     "duration": 0.026782,
     "end_time": "2024-04-07T22:07:56.343821",
     "exception": false,
     "start_time": "2024-04-07T22:07:56.317039",
     "status": "completed"
    },
    "tags": []
   },
   "outputs": [
    {
     "data": {
      "text/plain": [
       "array([1, 1, 1, ..., 0, 0, 1])"
      ]
     },
     "execution_count": 21,
     "metadata": {},
     "output_type": "execute_result"
    }
   ],
   "source": [
    "y"
   ]
  },
  {
   "cell_type": "code",
   "execution_count": 22,
   "id": "8a5c2e41",
   "metadata": {
    "execution": {
     "iopub.execute_input": "2024-04-07T22:07:56.379414Z",
     "iopub.status.busy": "2024-04-07T22:07:56.379011Z",
     "iopub.status.idle": "2024-04-07T22:07:56.388112Z",
     "shell.execute_reply": "2024-04-07T22:07:56.386905Z"
    },
    "papermill": {
     "duration": 0.029507,
     "end_time": "2024-04-07T22:07:56.390255",
     "exception": false,
     "start_time": "2024-04-07T22:07:56.360748",
     "status": "completed"
    },
    "tags": []
   },
   "outputs": [],
   "source": [
    "from sklearn.model_selection import train_test_split\n",
    "X_train,X_test,y_train,y_test = train_test_split(X,y,test_size = 0.2,random_state = 42)\n"
   ]
  },
  {
   "cell_type": "code",
   "execution_count": 23,
   "id": "68e30e0e",
   "metadata": {
    "execution": {
     "iopub.execute_input": "2024-04-07T22:07:56.425127Z",
     "iopub.status.busy": "2024-04-07T22:07:56.424747Z",
     "iopub.status.idle": "2024-04-07T22:07:56.431379Z",
     "shell.execute_reply": "2024-04-07T22:07:56.430382Z"
    },
    "papermill": {
     "duration": 0.026483,
     "end_time": "2024-04-07T22:07:56.433467",
     "exception": false,
     "start_time": "2024-04-07T22:07:56.406984",
     "status": "completed"
    },
    "tags": []
   },
   "outputs": [
    {
     "data": {
      "text/plain": [
       "(7986, 1)"
      ]
     },
     "execution_count": 23,
     "metadata": {},
     "output_type": "execute_result"
    }
   ],
   "source": [
    "X_train.shape"
   ]
  },
  {
   "cell_type": "code",
   "execution_count": 24,
   "id": "9ac75e87",
   "metadata": {
    "execution": {
     "iopub.execute_input": "2024-04-07T22:07:56.468974Z",
     "iopub.status.busy": "2024-04-07T22:07:56.468575Z",
     "iopub.status.idle": "2024-04-07T22:07:56.474836Z",
     "shell.execute_reply": "2024-04-07T22:07:56.474123Z"
    },
    "papermill": {
     "duration": 0.026547,
     "end_time": "2024-04-07T22:07:56.476759",
     "exception": false,
     "start_time": "2024-04-07T22:07:56.450212",
     "status": "completed"
    },
    "tags": []
   },
   "outputs": [
    {
     "data": {
      "text/plain": [
       "(1997, 1)"
      ]
     },
     "execution_count": 24,
     "metadata": {},
     "output_type": "execute_result"
    }
   ],
   "source": [
    "X_test.shape"
   ]
  },
  {
   "cell_type": "code",
   "execution_count": 25,
   "id": "36efb60c",
   "metadata": {
    "execution": {
     "iopub.execute_input": "2024-04-07T22:07:56.512608Z",
     "iopub.status.busy": "2024-04-07T22:07:56.512234Z",
     "iopub.status.idle": "2024-04-07T22:07:56.518626Z",
     "shell.execute_reply": "2024-04-07T22:07:56.517622Z"
    },
    "papermill": {
     "duration": 0.026845,
     "end_time": "2024-04-07T22:07:56.520678",
     "exception": false,
     "start_time": "2024-04-07T22:07:56.493833",
     "status": "completed"
    },
    "tags": []
   },
   "outputs": [
    {
     "data": {
      "text/plain": [
       "(7986,)"
      ]
     },
     "execution_count": 25,
     "metadata": {},
     "output_type": "execute_result"
    }
   ],
   "source": [
    "y_train.shape"
   ]
  },
  {
   "cell_type": "markdown",
   "id": "ce86072b",
   "metadata": {
    "papermill": {
     "duration": 0.017026,
     "end_time": "2024-04-07T22:07:56.555814",
     "exception": false,
     "start_time": "2024-04-07T22:07:56.538788",
     "status": "completed"
    },
    "tags": []
   },
   "source": [
    "# Bag of words is used for vectorization"
   ]
  },
  {
   "cell_type": "code",
   "execution_count": 26,
   "id": "0e83a251",
   "metadata": {
    "execution": {
     "iopub.execute_input": "2024-04-07T22:07:56.592249Z",
     "iopub.status.busy": "2024-04-07T22:07:56.591851Z",
     "iopub.status.idle": "2024-04-07T22:07:56.596138Z",
     "shell.execute_reply": "2024-04-07T22:07:56.595376Z"
    },
    "papermill": {
     "duration": 0.02491,
     "end_time": "2024-04-07T22:07:56.598200",
     "exception": false,
     "start_time": "2024-04-07T22:07:56.573290",
     "status": "completed"
    },
    "tags": []
   },
   "outputs": [],
   "source": [
    "from sklearn.feature_extraction.text import CountVectorizer\n",
    "cv = CountVectorizer()"
   ]
  },
  {
   "cell_type": "code",
   "execution_count": 27,
   "id": "074d19b1",
   "metadata": {
    "execution": {
     "iopub.execute_input": "2024-04-07T22:07:56.633318Z",
     "iopub.status.busy": "2024-04-07T22:07:56.632958Z",
     "iopub.status.idle": "2024-04-07T22:08:00.367076Z",
     "shell.execute_reply": "2024-04-07T22:08:00.366136Z"
    },
    "papermill": {
     "duration": 3.754868,
     "end_time": "2024-04-07T22:08:00.369558",
     "exception": false,
     "start_time": "2024-04-07T22:07:56.614690",
     "status": "completed"
    },
    "tags": []
   },
   "outputs": [],
   "source": [
    "X_train_bow = cv.fit_transform(X_train['review']).toarray()\n",
    "X_test_bow = cv.transform(X_test['review']).toarray()"
   ]
  },
  {
   "cell_type": "code",
   "execution_count": 28,
   "id": "64afc6dd",
   "metadata": {
    "execution": {
     "iopub.execute_input": "2024-04-07T22:08:00.407160Z",
     "iopub.status.busy": "2024-04-07T22:08:00.406498Z",
     "iopub.status.idle": "2024-04-07T22:08:00.412592Z",
     "shell.execute_reply": "2024-04-07T22:08:00.411560Z"
    },
    "papermill": {
     "duration": 0.027626,
     "end_time": "2024-04-07T22:08:00.415009",
     "exception": false,
     "start_time": "2024-04-07T22:08:00.387383",
     "status": "completed"
    },
    "tags": []
   },
   "outputs": [
    {
     "data": {
      "text/plain": [
       "(7986, 72211)"
      ]
     },
     "execution_count": 28,
     "metadata": {},
     "output_type": "execute_result"
    }
   ],
   "source": [
    "X_train_bow.shape"
   ]
  },
  {
   "cell_type": "code",
   "execution_count": 29,
   "id": "f8096154",
   "metadata": {
    "execution": {
     "iopub.execute_input": "2024-04-07T22:08:00.452932Z",
     "iopub.status.busy": "2024-04-07T22:08:00.451881Z",
     "iopub.status.idle": "2024-04-07T22:08:00.459747Z",
     "shell.execute_reply": "2024-04-07T22:08:00.458650Z"
    },
    "papermill": {
     "duration": 0.029111,
     "end_time": "2024-04-07T22:08:00.461948",
     "exception": false,
     "start_time": "2024-04-07T22:08:00.432837",
     "status": "completed"
    },
    "tags": []
   },
   "outputs": [
    {
     "data": {
      "text/plain": [
       "(1997, 72211)"
      ]
     },
     "execution_count": 29,
     "metadata": {},
     "output_type": "execute_result"
    }
   ],
   "source": [
    "X_test_bow.shape"
   ]
  },
  {
   "cell_type": "code",
   "execution_count": 30,
   "id": "f5d83488",
   "metadata": {
    "execution": {
     "iopub.execute_input": "2024-04-07T22:08:00.499925Z",
     "iopub.status.busy": "2024-04-07T22:08:00.499248Z",
     "iopub.status.idle": "2024-04-07T22:08:12.016093Z",
     "shell.execute_reply": "2024-04-07T22:08:12.015096Z"
    },
    "papermill": {
     "duration": 11.538784,
     "end_time": "2024-04-07T22:08:12.018615",
     "exception": false,
     "start_time": "2024-04-07T22:08:00.479831",
     "status": "completed"
    },
    "tags": []
   },
   "outputs": [
    {
     "data": {
      "text/html": [
       "<style>#sk-container-id-1 {color: black;background-color: white;}#sk-container-id-1 pre{padding: 0;}#sk-container-id-1 div.sk-toggleable {background-color: white;}#sk-container-id-1 label.sk-toggleable__label {cursor: pointer;display: block;width: 100%;margin-bottom: 0;padding: 0.3em;box-sizing: border-box;text-align: center;}#sk-container-id-1 label.sk-toggleable__label-arrow:before {content: \"▸\";float: left;margin-right: 0.25em;color: #696969;}#sk-container-id-1 label.sk-toggleable__label-arrow:hover:before {color: black;}#sk-container-id-1 div.sk-estimator:hover label.sk-toggleable__label-arrow:before {color: black;}#sk-container-id-1 div.sk-toggleable__content {max-height: 0;max-width: 0;overflow: hidden;text-align: left;background-color: #f0f8ff;}#sk-container-id-1 div.sk-toggleable__content pre {margin: 0.2em;color: black;border-radius: 0.25em;background-color: #f0f8ff;}#sk-container-id-1 input.sk-toggleable__control:checked~div.sk-toggleable__content {max-height: 200px;max-width: 100%;overflow: auto;}#sk-container-id-1 input.sk-toggleable__control:checked~label.sk-toggleable__label-arrow:before {content: \"▾\";}#sk-container-id-1 div.sk-estimator input.sk-toggleable__control:checked~label.sk-toggleable__label {background-color: #d4ebff;}#sk-container-id-1 div.sk-label input.sk-toggleable__control:checked~label.sk-toggleable__label {background-color: #d4ebff;}#sk-container-id-1 input.sk-hidden--visually {border: 0;clip: rect(1px 1px 1px 1px);clip: rect(1px, 1px, 1px, 1px);height: 1px;margin: -1px;overflow: hidden;padding: 0;position: absolute;width: 1px;}#sk-container-id-1 div.sk-estimator {font-family: monospace;background-color: #f0f8ff;border: 1px dotted black;border-radius: 0.25em;box-sizing: border-box;margin-bottom: 0.5em;}#sk-container-id-1 div.sk-estimator:hover {background-color: #d4ebff;}#sk-container-id-1 div.sk-parallel-item::after {content: \"\";width: 100%;border-bottom: 1px solid gray;flex-grow: 1;}#sk-container-id-1 div.sk-label:hover label.sk-toggleable__label {background-color: #d4ebff;}#sk-container-id-1 div.sk-serial::before {content: \"\";position: absolute;border-left: 1px solid gray;box-sizing: border-box;top: 0;bottom: 0;left: 50%;z-index: 0;}#sk-container-id-1 div.sk-serial {display: flex;flex-direction: column;align-items: center;background-color: white;padding-right: 0.2em;padding-left: 0.2em;position: relative;}#sk-container-id-1 div.sk-item {position: relative;z-index: 1;}#sk-container-id-1 div.sk-parallel {display: flex;align-items: stretch;justify-content: center;background-color: white;position: relative;}#sk-container-id-1 div.sk-item::before, #sk-container-id-1 div.sk-parallel-item::before {content: \"\";position: absolute;border-left: 1px solid gray;box-sizing: border-box;top: 0;bottom: 0;left: 50%;z-index: -1;}#sk-container-id-1 div.sk-parallel-item {display: flex;flex-direction: column;z-index: 1;position: relative;background-color: white;}#sk-container-id-1 div.sk-parallel-item:first-child::after {align-self: flex-end;width: 50%;}#sk-container-id-1 div.sk-parallel-item:last-child::after {align-self: flex-start;width: 50%;}#sk-container-id-1 div.sk-parallel-item:only-child::after {width: 0;}#sk-container-id-1 div.sk-dashed-wrapped {border: 1px dashed gray;margin: 0 0.4em 0.5em 0.4em;box-sizing: border-box;padding-bottom: 0.4em;background-color: white;}#sk-container-id-1 div.sk-label label {font-family: monospace;font-weight: bold;display: inline-block;line-height: 1.2em;}#sk-container-id-1 div.sk-label-container {text-align: center;}#sk-container-id-1 div.sk-container {/* jupyter's `normalize.less` sets `[hidden] { display: none; }` but bootstrap.min.css set `[hidden] { display: none !important; }` so we also need the `!important` here to be able to override the default hidden behavior on the sphinx rendered scikit-learn.org. See: https://github.com/scikit-learn/scikit-learn/issues/21755 */display: inline-block !important;position: relative;}#sk-container-id-1 div.sk-text-repr-fallback {display: none;}</style><div id=\"sk-container-id-1\" class=\"sk-top-container\"><div class=\"sk-text-repr-fallback\"><pre>GaussianNB()</pre><b>In a Jupyter environment, please rerun this cell to show the HTML representation or trust the notebook. <br />On GitHub, the HTML representation is unable to render, please try loading this page with nbviewer.org.</b></div><div class=\"sk-container\" hidden><div class=\"sk-item\"><div class=\"sk-estimator sk-toggleable\"><input class=\"sk-toggleable__control sk-hidden--visually\" id=\"sk-estimator-id-1\" type=\"checkbox\" checked><label for=\"sk-estimator-id-1\" class=\"sk-toggleable__label sk-toggleable__label-arrow\">GaussianNB</label><div class=\"sk-toggleable__content\"><pre>GaussianNB()</pre></div></div></div></div></div>"
      ],
      "text/plain": [
       "GaussianNB()"
      ]
     },
     "execution_count": 30,
     "metadata": {},
     "output_type": "execute_result"
    }
   ],
   "source": [
    "from sklearn.naive_bayes import GaussianNB\n",
    "gnb = GaussianNB()\n",
    "gnb.fit(X_train_bow,y_train)"
   ]
  },
  {
   "cell_type": "code",
   "execution_count": 31,
   "id": "c5bcb2e8",
   "metadata": {
    "execution": {
     "iopub.execute_input": "2024-04-07T22:08:12.056997Z",
     "iopub.status.busy": "2024-04-07T22:08:12.056233Z",
     "iopub.status.idle": "2024-04-07T22:08:14.594636Z",
     "shell.execute_reply": "2024-04-07T22:08:14.593421Z"
    },
    "papermill": {
     "duration": 2.560461,
     "end_time": "2024-04-07T22:08:14.597095",
     "exception": false,
     "start_time": "2024-04-07T22:08:12.036634",
     "status": "completed"
    },
    "tags": []
   },
   "outputs": [
    {
     "name": "stdout",
     "output_type": "stream",
     "text": [
      "0.6259389083625438\n"
     ]
    }
   ],
   "source": [
    "y_predict = gnb.predict(X_test_bow)\n",
    "\n",
    "from sklearn.metrics import accuracy_score,confusion_matrix\n",
    "accuracy_score =accuracy_score(y_test,y_predict)\n",
    "print(accuracy_score)"
   ]
  },
  {
   "cell_type": "code",
   "execution_count": 32,
   "id": "3525bca2",
   "metadata": {
    "execution": {
     "iopub.execute_input": "2024-04-07T22:08:14.634708Z",
     "iopub.status.busy": "2024-04-07T22:08:14.634296Z",
     "iopub.status.idle": "2024-04-07T22:09:52.693245Z",
     "shell.execute_reply": "2024-04-07T22:09:52.692414Z"
    },
    "papermill": {
     "duration": 98.09937,
     "end_time": "2024-04-07T22:09:52.714368",
     "exception": false,
     "start_time": "2024-04-07T22:08:14.614998",
     "status": "completed"
    },
    "tags": []
   },
   "outputs": [
    {
     "data": {
      "text/html": [
       "<style>#sk-container-id-2 {color: black;background-color: white;}#sk-container-id-2 pre{padding: 0;}#sk-container-id-2 div.sk-toggleable {background-color: white;}#sk-container-id-2 label.sk-toggleable__label {cursor: pointer;display: block;width: 100%;margin-bottom: 0;padding: 0.3em;box-sizing: border-box;text-align: center;}#sk-container-id-2 label.sk-toggleable__label-arrow:before {content: \"▸\";float: left;margin-right: 0.25em;color: #696969;}#sk-container-id-2 label.sk-toggleable__label-arrow:hover:before {color: black;}#sk-container-id-2 div.sk-estimator:hover label.sk-toggleable__label-arrow:before {color: black;}#sk-container-id-2 div.sk-toggleable__content {max-height: 0;max-width: 0;overflow: hidden;text-align: left;background-color: #f0f8ff;}#sk-container-id-2 div.sk-toggleable__content pre {margin: 0.2em;color: black;border-radius: 0.25em;background-color: #f0f8ff;}#sk-container-id-2 input.sk-toggleable__control:checked~div.sk-toggleable__content {max-height: 200px;max-width: 100%;overflow: auto;}#sk-container-id-2 input.sk-toggleable__control:checked~label.sk-toggleable__label-arrow:before {content: \"▾\";}#sk-container-id-2 div.sk-estimator input.sk-toggleable__control:checked~label.sk-toggleable__label {background-color: #d4ebff;}#sk-container-id-2 div.sk-label input.sk-toggleable__control:checked~label.sk-toggleable__label {background-color: #d4ebff;}#sk-container-id-2 input.sk-hidden--visually {border: 0;clip: rect(1px 1px 1px 1px);clip: rect(1px, 1px, 1px, 1px);height: 1px;margin: -1px;overflow: hidden;padding: 0;position: absolute;width: 1px;}#sk-container-id-2 div.sk-estimator {font-family: monospace;background-color: #f0f8ff;border: 1px dotted black;border-radius: 0.25em;box-sizing: border-box;margin-bottom: 0.5em;}#sk-container-id-2 div.sk-estimator:hover {background-color: #d4ebff;}#sk-container-id-2 div.sk-parallel-item::after {content: \"\";width: 100%;border-bottom: 1px solid gray;flex-grow: 1;}#sk-container-id-2 div.sk-label:hover label.sk-toggleable__label {background-color: #d4ebff;}#sk-container-id-2 div.sk-serial::before {content: \"\";position: absolute;border-left: 1px solid gray;box-sizing: border-box;top: 0;bottom: 0;left: 50%;z-index: 0;}#sk-container-id-2 div.sk-serial {display: flex;flex-direction: column;align-items: center;background-color: white;padding-right: 0.2em;padding-left: 0.2em;position: relative;}#sk-container-id-2 div.sk-item {position: relative;z-index: 1;}#sk-container-id-2 div.sk-parallel {display: flex;align-items: stretch;justify-content: center;background-color: white;position: relative;}#sk-container-id-2 div.sk-item::before, #sk-container-id-2 div.sk-parallel-item::before {content: \"\";position: absolute;border-left: 1px solid gray;box-sizing: border-box;top: 0;bottom: 0;left: 50%;z-index: -1;}#sk-container-id-2 div.sk-parallel-item {display: flex;flex-direction: column;z-index: 1;position: relative;background-color: white;}#sk-container-id-2 div.sk-parallel-item:first-child::after {align-self: flex-end;width: 50%;}#sk-container-id-2 div.sk-parallel-item:last-child::after {align-self: flex-start;width: 50%;}#sk-container-id-2 div.sk-parallel-item:only-child::after {width: 0;}#sk-container-id-2 div.sk-dashed-wrapped {border: 1px dashed gray;margin: 0 0.4em 0.5em 0.4em;box-sizing: border-box;padding-bottom: 0.4em;background-color: white;}#sk-container-id-2 div.sk-label label {font-family: monospace;font-weight: bold;display: inline-block;line-height: 1.2em;}#sk-container-id-2 div.sk-label-container {text-align: center;}#sk-container-id-2 div.sk-container {/* jupyter's `normalize.less` sets `[hidden] { display: none; }` but bootstrap.min.css set `[hidden] { display: none !important; }` so we also need the `!important` here to be able to override the default hidden behavior on the sphinx rendered scikit-learn.org. See: https://github.com/scikit-learn/scikit-learn/issues/21755 */display: inline-block !important;position: relative;}#sk-container-id-2 div.sk-text-repr-fallback {display: none;}</style><div id=\"sk-container-id-2\" class=\"sk-top-container\"><div class=\"sk-text-repr-fallback\"><pre>RandomForestClassifier()</pre><b>In a Jupyter environment, please rerun this cell to show the HTML representation or trust the notebook. <br />On GitHub, the HTML representation is unable to render, please try loading this page with nbviewer.org.</b></div><div class=\"sk-container\" hidden><div class=\"sk-item\"><div class=\"sk-estimator sk-toggleable\"><input class=\"sk-toggleable__control sk-hidden--visually\" id=\"sk-estimator-id-2\" type=\"checkbox\" checked><label for=\"sk-estimator-id-2\" class=\"sk-toggleable__label sk-toggleable__label-arrow\">RandomForestClassifier</label><div class=\"sk-toggleable__content\"><pre>RandomForestClassifier()</pre></div></div></div></div></div>"
      ],
      "text/plain": [
       "RandomForestClassifier()"
      ]
     },
     "execution_count": 32,
     "metadata": {},
     "output_type": "execute_result"
    }
   ],
   "source": [
    "from sklearn.ensemble import RandomForestClassifier\n",
    "rc = RandomForestClassifier()\n",
    "rc.fit(X_train_bow,y_train)"
   ]
  },
  {
   "cell_type": "code",
   "execution_count": 33,
   "id": "aa4f8f13",
   "metadata": {
    "execution": {
     "iopub.execute_input": "2024-04-07T22:09:52.753779Z",
     "iopub.status.busy": "2024-04-07T22:09:52.752603Z",
     "iopub.status.idle": "2024-04-07T22:09:53.282524Z",
     "shell.execute_reply": "2024-04-07T22:09:53.281251Z"
    },
    "papermill": {
     "duration": 0.552464,
     "end_time": "2024-04-07T22:09:53.285345",
     "exception": false,
     "start_time": "2024-04-07T22:09:52.732881",
     "status": "completed"
    },
    "tags": []
   },
   "outputs": [
    {
     "name": "stdout",
     "output_type": "stream",
     "text": [
      "0.8542814221331998\n"
     ]
    }
   ],
   "source": [
    "y_predict = rc.predict(X_test_bow)\n",
    "\n",
    "from sklearn.metrics import accuracy_score,confusion_matrix\n",
    "accuracy_score =accuracy_score(y_test,y_predict)\n",
    "print(accuracy_score)"
   ]
  },
  {
   "cell_type": "markdown",
   "id": "e93fa63b",
   "metadata": {
    "papermill": {
     "duration": 0.019178,
     "end_time": "2024-04-07T22:09:53.323300",
     "exception": false,
     "start_time": "2024-04-07T22:09:53.304122",
     "status": "completed"
    },
    "tags": []
   },
   "source": [
    "# tf IDF is used for vectorization"
   ]
  },
  {
   "cell_type": "code",
   "execution_count": 34,
   "id": "e7480aae",
   "metadata": {
    "execution": {
     "iopub.execute_input": "2024-04-07T22:09:53.362518Z",
     "iopub.status.busy": "2024-04-07T22:09:53.362090Z",
     "iopub.status.idle": "2024-04-07T22:09:53.367219Z",
     "shell.execute_reply": "2024-04-07T22:09:53.366115Z"
    },
    "papermill": {
     "duration": 0.027758,
     "end_time": "2024-04-07T22:09:53.369572",
     "exception": false,
     "start_time": "2024-04-07T22:09:53.341814",
     "status": "completed"
    },
    "tags": []
   },
   "outputs": [],
   "source": [
    "from sklearn.feature_extraction.text import TfidfVectorizer\n",
    "tf = TfidfVectorizer()"
   ]
  },
  {
   "cell_type": "code",
   "execution_count": 35,
   "id": "b9a9c75d",
   "metadata": {
    "execution": {
     "iopub.execute_input": "2024-04-07T22:09:53.410287Z",
     "iopub.status.busy": "2024-04-07T22:09:53.409113Z",
     "iopub.status.idle": "2024-04-07T22:09:58.802554Z",
     "shell.execute_reply": "2024-04-07T22:09:58.801416Z"
    },
    "papermill": {
     "duration": 5.416493,
     "end_time": "2024-04-07T22:09:58.805066",
     "exception": false,
     "start_time": "2024-04-07T22:09:53.388573",
     "status": "completed"
    },
    "tags": []
   },
   "outputs": [],
   "source": [
    "X_train_tf = tf.fit_transform(X_train['review']).toarray()\n",
    "X_test_tf = tf.transform(X_test['review']).toarray()"
   ]
  },
  {
   "cell_type": "code",
   "execution_count": 36,
   "id": "68c92777",
   "metadata": {
    "execution": {
     "iopub.execute_input": "2024-04-07T22:09:58.845107Z",
     "iopub.status.busy": "2024-04-07T22:09:58.843884Z",
     "iopub.status.idle": "2024-04-07T22:11:38.035579Z",
     "shell.execute_reply": "2024-04-07T22:11:38.034418Z"
    },
    "papermill": {
     "duration": 99.232768,
     "end_time": "2024-04-07T22:11:38.056769",
     "exception": false,
     "start_time": "2024-04-07T22:09:58.824001",
     "status": "completed"
    },
    "tags": []
   },
   "outputs": [
    {
     "data": {
      "text/html": [
       "<style>#sk-container-id-3 {color: black;background-color: white;}#sk-container-id-3 pre{padding: 0;}#sk-container-id-3 div.sk-toggleable {background-color: white;}#sk-container-id-3 label.sk-toggleable__label {cursor: pointer;display: block;width: 100%;margin-bottom: 0;padding: 0.3em;box-sizing: border-box;text-align: center;}#sk-container-id-3 label.sk-toggleable__label-arrow:before {content: \"▸\";float: left;margin-right: 0.25em;color: #696969;}#sk-container-id-3 label.sk-toggleable__label-arrow:hover:before {color: black;}#sk-container-id-3 div.sk-estimator:hover label.sk-toggleable__label-arrow:before {color: black;}#sk-container-id-3 div.sk-toggleable__content {max-height: 0;max-width: 0;overflow: hidden;text-align: left;background-color: #f0f8ff;}#sk-container-id-3 div.sk-toggleable__content pre {margin: 0.2em;color: black;border-radius: 0.25em;background-color: #f0f8ff;}#sk-container-id-3 input.sk-toggleable__control:checked~div.sk-toggleable__content {max-height: 200px;max-width: 100%;overflow: auto;}#sk-container-id-3 input.sk-toggleable__control:checked~label.sk-toggleable__label-arrow:before {content: \"▾\";}#sk-container-id-3 div.sk-estimator input.sk-toggleable__control:checked~label.sk-toggleable__label {background-color: #d4ebff;}#sk-container-id-3 div.sk-label input.sk-toggleable__control:checked~label.sk-toggleable__label {background-color: #d4ebff;}#sk-container-id-3 input.sk-hidden--visually {border: 0;clip: rect(1px 1px 1px 1px);clip: rect(1px, 1px, 1px, 1px);height: 1px;margin: -1px;overflow: hidden;padding: 0;position: absolute;width: 1px;}#sk-container-id-3 div.sk-estimator {font-family: monospace;background-color: #f0f8ff;border: 1px dotted black;border-radius: 0.25em;box-sizing: border-box;margin-bottom: 0.5em;}#sk-container-id-3 div.sk-estimator:hover {background-color: #d4ebff;}#sk-container-id-3 div.sk-parallel-item::after {content: \"\";width: 100%;border-bottom: 1px solid gray;flex-grow: 1;}#sk-container-id-3 div.sk-label:hover label.sk-toggleable__label {background-color: #d4ebff;}#sk-container-id-3 div.sk-serial::before {content: \"\";position: absolute;border-left: 1px solid gray;box-sizing: border-box;top: 0;bottom: 0;left: 50%;z-index: 0;}#sk-container-id-3 div.sk-serial {display: flex;flex-direction: column;align-items: center;background-color: white;padding-right: 0.2em;padding-left: 0.2em;position: relative;}#sk-container-id-3 div.sk-item {position: relative;z-index: 1;}#sk-container-id-3 div.sk-parallel {display: flex;align-items: stretch;justify-content: center;background-color: white;position: relative;}#sk-container-id-3 div.sk-item::before, #sk-container-id-3 div.sk-parallel-item::before {content: \"\";position: absolute;border-left: 1px solid gray;box-sizing: border-box;top: 0;bottom: 0;left: 50%;z-index: -1;}#sk-container-id-3 div.sk-parallel-item {display: flex;flex-direction: column;z-index: 1;position: relative;background-color: white;}#sk-container-id-3 div.sk-parallel-item:first-child::after {align-self: flex-end;width: 50%;}#sk-container-id-3 div.sk-parallel-item:last-child::after {align-self: flex-start;width: 50%;}#sk-container-id-3 div.sk-parallel-item:only-child::after {width: 0;}#sk-container-id-3 div.sk-dashed-wrapped {border: 1px dashed gray;margin: 0 0.4em 0.5em 0.4em;box-sizing: border-box;padding-bottom: 0.4em;background-color: white;}#sk-container-id-3 div.sk-label label {font-family: monospace;font-weight: bold;display: inline-block;line-height: 1.2em;}#sk-container-id-3 div.sk-label-container {text-align: center;}#sk-container-id-3 div.sk-container {/* jupyter's `normalize.less` sets `[hidden] { display: none; }` but bootstrap.min.css set `[hidden] { display: none !important; }` so we also need the `!important` here to be able to override the default hidden behavior on the sphinx rendered scikit-learn.org. See: https://github.com/scikit-learn/scikit-learn/issues/21755 */display: inline-block !important;position: relative;}#sk-container-id-3 div.sk-text-repr-fallback {display: none;}</style><div id=\"sk-container-id-3\" class=\"sk-top-container\"><div class=\"sk-text-repr-fallback\"><pre>RandomForestClassifier()</pre><b>In a Jupyter environment, please rerun this cell to show the HTML representation or trust the notebook. <br />On GitHub, the HTML representation is unable to render, please try loading this page with nbviewer.org.</b></div><div class=\"sk-container\" hidden><div class=\"sk-item\"><div class=\"sk-estimator sk-toggleable\"><input class=\"sk-toggleable__control sk-hidden--visually\" id=\"sk-estimator-id-3\" type=\"checkbox\" checked><label for=\"sk-estimator-id-3\" class=\"sk-toggleable__label sk-toggleable__label-arrow\">RandomForestClassifier</label><div class=\"sk-toggleable__content\"><pre>RandomForestClassifier()</pre></div></div></div></div></div>"
      ],
      "text/plain": [
       "RandomForestClassifier()"
      ]
     },
     "execution_count": 36,
     "metadata": {},
     "output_type": "execute_result"
    }
   ],
   "source": [
    "from sklearn.ensemble import RandomForestClassifier\n",
    "rctf = RandomForestClassifier()\n",
    "rctf.fit(X_train_tf,y_train)"
   ]
  },
  {
   "cell_type": "code",
   "execution_count": 37,
   "id": "30583ff0",
   "metadata": {
    "execution": {
     "iopub.execute_input": "2024-04-07T22:11:38.096322Z",
     "iopub.status.busy": "2024-04-07T22:11:38.095556Z",
     "iopub.status.idle": "2024-04-07T22:11:38.578006Z",
     "shell.execute_reply": "2024-04-07T22:11:38.576897Z"
    },
    "papermill": {
     "duration": 0.505116,
     "end_time": "2024-04-07T22:11:38.580626",
     "exception": false,
     "start_time": "2024-04-07T22:11:38.075510",
     "status": "completed"
    },
    "tags": []
   },
   "outputs": [
    {
     "name": "stdout",
     "output_type": "stream",
     "text": [
      "0.8087130696044066\n"
     ]
    }
   ],
   "source": [
    "y_predict = rctf.predict(X_test_bow)\n",
    "\n",
    "from sklearn.metrics import accuracy_score,confusion_matrix\n",
    "accuracy_score =accuracy_score(y_test,y_predict)\n",
    "print(accuracy_score)"
   ]
  },
  {
   "cell_type": "markdown",
   "id": "5fc0fd00",
   "metadata": {
    "papermill": {
     "duration": 0.0185,
     "end_time": "2024-04-07T22:11:38.617922",
     "exception": false,
     "start_time": "2024-04-07T22:11:38.599422",
     "status": "completed"
    },
    "tags": []
   },
   "source": [
    "# Saving and loading the model"
   ]
  },
  {
   "cell_type": "code",
   "execution_count": 38,
   "id": "bcfdcb71",
   "metadata": {
    "execution": {
     "iopub.execute_input": "2024-04-07T22:11:38.657378Z",
     "iopub.status.busy": "2024-04-07T22:11:38.656696Z",
     "iopub.status.idle": "2024-04-07T22:11:38.772622Z",
     "shell.execute_reply": "2024-04-07T22:11:38.771855Z"
    },
    "papermill": {
     "duration": 0.138414,
     "end_time": "2024-04-07T22:11:38.774923",
     "exception": false,
     "start_time": "2024-04-07T22:11:38.636509",
     "status": "completed"
    },
    "tags": []
   },
   "outputs": [
    {
     "data": {
      "text/plain": [
       "['sentiment_analysis_model.pkl']"
      ]
     },
     "execution_count": 38,
     "metadata": {},
     "output_type": "execute_result"
    }
   ],
   "source": [
    "import joblib\n",
    "joblib.dump(rctf, 'sentiment_analysis_model.pkl')\n"
   ]
  },
  {
   "cell_type": "code",
   "execution_count": 39,
   "id": "88e770f3",
   "metadata": {
    "execution": {
     "iopub.execute_input": "2024-04-07T22:11:38.815408Z",
     "iopub.status.busy": "2024-04-07T22:11:38.814974Z",
     "iopub.status.idle": "2024-04-07T22:11:38.927626Z",
     "shell.execute_reply": "2024-04-07T22:11:38.926677Z"
    },
    "papermill": {
     "duration": 0.136028,
     "end_time": "2024-04-07T22:11:38.930219",
     "exception": false,
     "start_time": "2024-04-07T22:11:38.794191",
     "status": "completed"
    },
    "tags": []
   },
   "outputs": [],
   "source": [
    "loaded_model = joblib.load('sentiment_analysis_model.pkl')"
   ]
  },
  {
   "cell_type": "markdown",
   "id": "1d964946",
   "metadata": {
    "papermill": {
     "duration": 0.018475,
     "end_time": "2024-04-07T22:11:38.967670",
     "exception": false,
     "start_time": "2024-04-07T22:11:38.949195",
     "status": "completed"
    },
    "tags": []
   },
   "source": [
    "# Lets test our model with an original realworld positive review of batman 2022"
   ]
  },
  {
   "cell_type": "code",
   "execution_count": 40,
   "id": "cd8b1625",
   "metadata": {
    "execution": {
     "iopub.execute_input": "2024-04-07T22:11:39.007238Z",
     "iopub.status.busy": "2024-04-07T22:11:39.006831Z",
     "iopub.status.idle": "2024-04-07T22:11:39.023740Z",
     "shell.execute_reply": "2024-04-07T22:11:39.022657Z"
    },
    "papermill": {
     "duration": 0.039622,
     "end_time": "2024-04-07T22:11:39.026123",
     "exception": false,
     "start_time": "2024-04-07T22:11:38.986501",
     "status": "completed"
    },
    "tags": []
   },
   "outputs": [
    {
     "name": "stdout",
     "output_type": "stream",
     "text": [
      "['positive']\n"
     ]
    }
   ],
   "source": [
    "text = \"Detective Batman at its peak! Great storyline. Just as dark a universe as we've come to expect from DC. The gloomy, gritty, dark tone of this film is exactly what I wanted. When you think the movie is over, there's more. Beautiful cinematography. Great score.\"\n",
    "pro_text = [text]\n",
    "X_new_tf = tf.transform(pro_text).toarray()\n",
    "y_new_predict = loaded_model.predict(X_new_tf)\n",
    "sentiment = encoder.inverse_transform(y_new_predict)\n",
    "print(sentiment)"
   ]
  }
 ],
 "metadata": {
  "kaggle": {
   "accelerator": "none",
   "dataSources": [
    {
     "datasetId": 134715,
     "sourceId": 320111,
     "sourceType": "datasetVersion"
    }
   ],
   "dockerImageVersionId": 30673,
   "isGpuEnabled": false,
   "isInternetEnabled": true,
   "language": "python",
   "sourceType": "notebook"
  },
  "kernelspec": {
   "display_name": "Python 3",
   "language": "python",
   "name": "python3"
  },
  "language_info": {
   "codemirror_mode": {
    "name": "ipython",
    "version": 3
   },
   "file_extension": ".py",
   "mimetype": "text/x-python",
   "name": "python",
   "nbconvert_exporter": "python",
   "pygments_lexer": "ipython3",
   "version": "3.10.13"
  },
  "papermill": {
   "default_parameters": {},
   "duration": 237.466206,
   "end_time": "2024-04-07T22:11:40.170783",
   "environment_variables": {},
   "exception": null,
   "input_path": "__notebook__.ipynb",
   "output_path": "__notebook__.ipynb",
   "parameters": {},
   "start_time": "2024-04-07T22:07:42.704577",
   "version": "2.5.0"
  }
 },
 "nbformat": 4,
 "nbformat_minor": 5
}
